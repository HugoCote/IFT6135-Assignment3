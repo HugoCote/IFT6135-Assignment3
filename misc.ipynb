{
 "cells": [
  {
   "cell_type": "code",
   "execution_count": 76,
   "metadata": {},
   "outputs": [],
   "source": [
    "# default import, might be useless\n",
    "\n",
    "# deep learning library\n",
    "import torch\n",
    "import torchvision\n",
    "from   torch.utils.data import DataLoader\n",
    "import torch.optim as optim\n",
    "import torch.nn as nn\n",
    "import torch.nn.functional as F\n",
    "\n",
    "# to import data\n",
    "import torchvision.transforms as transforms \n",
    "import torchvision.datasets.mnist as mnist  \n",
    "\n",
    "# we use torch.cuda.Event(enable_timing=True) to measure time\n",
    "# if you don't have cuda, you can use instead :\n",
    "# from timeit import default_timer as timer\n",
    "# import time\n",
    "\n",
    "import collections           # for ordered_dictionnary\n",
    "import torch.nn.init as init # to initialize model\n",
    "\n",
    "import copy # for copy.deepcopy( ... )\n",
    "\n",
    "import numpy as np\n",
    "\n",
    "# to make and display plots\n",
    "import matplotlib.pyplot as plt\n",
    "from matplotlib.pyplot import figure \n",
    "\n",
    "# to format time to strings\n",
    "import datetime                      \n",
    "\n",
    "import math # for ceil ()\n",
    "\n",
    "import IPython.display # to display .png\n",
    "\n",
    "import time\n",
    "import collections\n",
    "import os\n",
    "import sys\n",
    "import torch\n",
    "import torch.nn\n",
    "from torch.autograd import Variable\n",
    "import torch.nn as nn\n",
    "\n",
    "from torch.distributions.normal import Normal"
   ]
  },
  {
   "cell_type": "code",
   "execution_count": 53,
   "metadata": {},
   "outputs": [
    {
     "name": "stdout",
     "output_type": "stream",
     "text": [
      "torch.Size([11, 100])\n"
     ]
    }
   ],
   "source": [
    "c = torch.linspace(0, 1, steps=11)\n",
    "c = torch.transpose(c.repeat(100,1),0,-1)\n",
    "print(c.shape)"
   ]
  },
  {
   "cell_type": "code",
   "execution_count": 60,
   "metadata": {},
   "outputs": [],
   "source": [
    "a = 5\n",
    "b = 15\n",
    "c = torch.linspace(0, 1, steps=11)\n",
    "c = torch.transpose(c.repeat(1,3,32,32,1),0,-1).squeeze(-1)"
   ]
  },
  {
   "cell_type": "code",
   "execution_count": 61,
   "metadata": {},
   "outputs": [
    {
     "name": "stdout",
     "output_type": "stream",
     "text": [
      "torch.Size([11, 3, 32, 32])\n",
      "tensor([[[0., 0., 0.,  ..., 0., 0., 0.],\n",
      "         [0., 0., 0.,  ..., 0., 0., 0.],\n",
      "         [0., 0., 0.,  ..., 0., 0., 0.],\n",
      "         ...,\n",
      "         [0., 0., 0.,  ..., 0., 0., 0.],\n",
      "         [0., 0., 0.,  ..., 0., 0., 0.],\n",
      "         [0., 0., 0.,  ..., 0., 0., 0.]],\n",
      "\n",
      "        [[0., 0., 0.,  ..., 0., 0., 0.],\n",
      "         [0., 0., 0.,  ..., 0., 0., 0.],\n",
      "         [0., 0., 0.,  ..., 0., 0., 0.],\n",
      "         ...,\n",
      "         [0., 0., 0.,  ..., 0., 0., 0.],\n",
      "         [0., 0., 0.,  ..., 0., 0., 0.],\n",
      "         [0., 0., 0.,  ..., 0., 0., 0.]],\n",
      "\n",
      "        [[0., 0., 0.,  ..., 0., 0., 0.],\n",
      "         [0., 0., 0.,  ..., 0., 0., 0.],\n",
      "         [0., 0., 0.,  ..., 0., 0., 0.],\n",
      "         ...,\n",
      "         [0., 0., 0.,  ..., 0., 0., 0.],\n",
      "         [0., 0., 0.,  ..., 0., 0., 0.],\n",
      "         [0., 0., 0.,  ..., 0., 0., 0.]]])\n",
      "tensor([0.0000, 0.1000, 0.2000, 0.3000, 0.4000, 0.5000, 0.6000, 0.7000, 0.8000,\n",
      "        0.9000, 1.0000])\n"
     ]
    }
   ],
   "source": [
    "print(c.shape)\n",
    "print(c[0,:,:,:])\n",
    "print(c[:,0,0,0])"
   ]
  },
  {
   "cell_type": "code",
   "execution_count": 21,
   "metadata": {},
   "outputs": [],
   "source": [
    "d = c*b+(1-c)*a"
   ]
  },
  {
   "cell_type": "code",
   "execution_count": 22,
   "metadata": {},
   "outputs": [
    {
     "name": "stdout",
     "output_type": "stream",
     "text": [
      "tensor([5., 5.])\n"
     ]
    }
   ],
   "source": [
    "print(d[:,0,0])"
   ]
  },
  {
   "cell_type": "code",
   "execution_count": 65,
   "metadata": {},
   "outputs": [
    {
     "name": "stdout",
     "output_type": "stream",
     "text": [
      "torch.Size([5, 5])\n"
     ]
    }
   ],
   "source": [
    "g = torch.ones(5,5,5)\n",
    "print( g[0].shape )"
   ]
  },
  {
   "cell_type": "code",
   "execution_count": 68,
   "metadata": {},
   "outputs": [
    {
     "name": "stdout",
     "output_type": "stream",
     "text": [
      "tensor([[-0.5791,  0.4211],\n",
      "        [-0.6233,  0.7187]])\n",
      "tensor([[0., 0.],\n",
      "        [0., 0.]])\n",
      "tensor([[0.0000, 0.4211],\n",
      "        [0.0000, 0.7187]])\n"
     ]
    }
   ],
   "source": [
    "a = torch.randn(2,2)\n",
    "b = torch.zeros(2,2)\n",
    "c = torch.max(a,b)\n",
    "\n",
    "print(a)\n",
    "print(b)\n",
    "print(c)"
   ]
  },
  {
   "cell_type": "code",
   "execution_count": 70,
   "metadata": {},
   "outputs": [
    {
     "name": "stdout",
     "output_type": "stream",
     "text": [
      "tensor([[2.7998, 0.2312],\n",
      "        [2.8171, 0.2961]])\n"
     ]
    }
   ],
   "source": [
    "a = torch.randn(2,2)\n",
    "b = a.exp()\n",
    "print(b)"
   ]
  },
  {
   "cell_type": "code",
   "execution_count": 74,
   "metadata": {},
   "outputs": [
    {
     "name": "stdout",
     "output_type": "stream",
     "text": [
      "tensor([4.6052, 2.3026, 0.0000])\n"
     ]
    }
   ],
   "source": [
    "z = torch.tensor([100,10,1],dtype=torch.float)\n",
    "print( z.log() )"
   ]
  },
  {
   "cell_type": "code",
   "execution_count": 85,
   "metadata": {},
   "outputs": [
    {
     "name": "stdout",
     "output_type": "stream",
     "text": [
      "torch.Size([4, 3, 2])\n",
      "tensor([[[-0.1356,  9.7653],\n",
      "         [ 0.9093,  8.7009],\n",
      "         [-0.6182,  5.6125]],\n",
      "\n",
      "        [[-0.6682, 20.8971],\n",
      "         [ 0.1254,  9.8716],\n",
      "         [-0.5835, 10.3099]],\n",
      "\n",
      "        [[-1.1301,  5.5801],\n",
      "         [ 0.8912,  9.4614],\n",
      "         [-0.0744, 10.2040]],\n",
      "\n",
      "        [[-1.1459, 17.3478],\n",
      "         [-1.3308, 10.0377],\n",
      "         [-0.3686,  9.8107]]])\n"
     ]
    }
   ],
   "source": [
    "mu  = torch.tensor([0,10],dtype=torch.float)\n",
    "std = torch.tensor([1,5],dtype=torch.float)\n",
    "nor = Normal(mu, std)\n",
    "z   = nor.sample([4,3])\n",
    "print(z.shape)\n",
    "print(z)"
   ]
  },
  {
   "cell_type": "code",
   "execution_count": 87,
   "metadata": {},
   "outputs": [
    {
     "name": "stdout",
     "output_type": "stream",
     "text": [
      "torch.Size([4, 3])\n",
      "tensor([[ 9.7653,  8.7009,  5.6125],\n",
      "        [20.8971,  9.8716, 10.3099],\n",
      "        [ 5.5801,  9.4614, 10.2040],\n",
      "        [17.3478, 10.0377,  9.8107]])\n"
     ]
    }
   ],
   "source": [
    "m,_ = z.max(-1)\n",
    "print(m.shape)\n",
    "print(m)"
   ]
  },
  {
   "cell_type": "code",
   "execution_count": 100,
   "metadata": {},
   "outputs": [
    {
     "name": "stdout",
     "output_type": "stream",
     "text": [
      "tensor([ 1.,  2.,  3.,  4.,  5.,  6.,  7.,  8.,  9., 10.])\n",
      "tensor([[ 1.,  2.],\n",
      "        [ 3.,  4.],\n",
      "        [ 5.,  6.],\n",
      "        [ 7.,  8.],\n",
      "        [ 9., 10.]])\n",
      "tensor([[[ 1.,  2.],\n",
      "         [ 1.,  2.],\n",
      "         [ 1.,  2.]],\n",
      "\n",
      "        [[ 3.,  4.],\n",
      "         [ 3.,  4.],\n",
      "         [ 3.,  4.]],\n",
      "\n",
      "        [[ 5.,  6.],\n",
      "         [ 5.,  6.],\n",
      "         [ 5.,  6.]],\n",
      "\n",
      "        [[ 7.,  8.],\n",
      "         [ 7.,  8.],\n",
      "         [ 7.,  8.]],\n",
      "\n",
      "        [[ 9., 10.],\n",
      "         [ 9., 10.],\n",
      "         [ 9., 10.]]])\n",
      "tensor([[ 1.,  2.],\n",
      "        [ 1.,  2.],\n",
      "        [ 1.,  2.],\n",
      "        [ 3.,  4.],\n",
      "        [ 3.,  4.],\n",
      "        [ 3.,  4.],\n",
      "        [ 5.,  6.],\n",
      "        [ 5.,  6.],\n",
      "        [ 5.,  6.],\n",
      "        [ 7.,  8.],\n",
      "        [ 7.,  8.],\n",
      "        [ 7.,  8.],\n",
      "        [ 9., 10.],\n",
      "        [ 9., 10.],\n",
      "        [ 9., 10.]])\n",
      "tensor([[[ 1.,  2.],\n",
      "         [ 1.,  2.],\n",
      "         [ 1.,  2.]],\n",
      "\n",
      "        [[ 3.,  4.],\n",
      "         [ 3.,  4.],\n",
      "         [ 3.,  4.]],\n",
      "\n",
      "        [[ 5.,  6.],\n",
      "         [ 5.,  6.],\n",
      "         [ 5.,  6.]],\n",
      "\n",
      "        [[ 7.,  8.],\n",
      "         [ 7.,  8.],\n",
      "         [ 7.,  8.]],\n",
      "\n",
      "        [[ 9., 10.],\n",
      "         [ 9., 10.],\n",
      "         [ 9., 10.]]])\n"
     ]
    }
   ],
   "source": [
    "m = torch.linspace(1, 10, steps=10)\n",
    "print(m)\n",
    "m = m.view(5,2).contiguous()\n",
    "print(m)\n",
    "m = m.unsqueeze(1).repeat(1,3,1).contiguous()\n",
    "print(m)\n",
    "m = m.view(15,2).contiguous()\n",
    "print(m)\n",
    "m = m.view(5,3,2).contiguous()\n",
    "print(m)"
   ]
  },
  {
   "cell_type": "code",
   "execution_count": null,
   "metadata": {},
   "outputs": [],
   "source": [
    "m = torch.linspace(1, 10, steps=10)\n",
    "m = m.view(5,2).contiguous() # (bs,dimz)\n",
    "m = m.unsqueeze(1).repeat(1,3,1).contiguous() # (bs,K,dimz)\n",
    "m = m.view(15,2).contiguous() # (bs * K,dimz)\n",
    "m = m.view(5,3,2).contiguous() # (bs,K,dimz)"
   ]
  },
  {
   "cell_type": "code",
   "execution_count": 104,
   "metadata": {},
   "outputs": [
    {
     "name": "stdout",
     "output_type": "stream",
     "text": [
      "torch.Size([])\n"
     ]
    }
   ],
   "source": [
    "K = 20\n",
    "Kt = torch.tensor(K,dtype=torch.float)\n",
    "print(Kt.shape)"
   ]
  },
  {
   "cell_type": "code",
   "execution_count": 105,
   "metadata": {},
   "outputs": [
    {
     "name": "stdout",
     "output_type": "stream",
     "text": [
      "torch.Size([512])\n",
      "torch.Size([512, 1])\n"
     ]
    }
   ],
   "source": [
    "u = torch.ones(512)\n",
    "print(u.shape)\n",
    "print(u.unsqueeze(1).shape)"
   ]
  },
  {
   "cell_type": "code",
   "execution_count": 106,
   "metadata": {},
   "outputs": [
    {
     "name": "stdout",
     "output_type": "stream",
     "text": [
      "(512,)\n"
     ]
    }
   ],
   "source": [
    "u = np.ones([512])\n",
    "print( u.shape )"
   ]
  },
  {
   "cell_type": "code",
   "execution_count": 108,
   "metadata": {},
   "outputs": [
    {
     "name": "stdout",
     "output_type": "stream",
     "text": [
      "[1, 2, 5]\n",
      "[1 2 5]\n"
     ]
    }
   ],
   "source": [
    "malist  = [1]\n",
    "malist += [2]\n",
    "malist += [5]\n",
    "arr = np.asarray(malist)\n",
    "print(malist)\n",
    "print(arr)"
   ]
  },
  {
   "cell_type": "code",
   "execution_count": null,
   "metadata": {},
   "outputs": [],
   "source": []
  }
 ],
 "metadata": {
  "kernelspec": {
   "display_name": "Python 3",
   "language": "python",
   "name": "python3"
  },
  "language_info": {
   "codemirror_mode": {
    "name": "ipython",
    "version": 3
   },
   "file_extension": ".py",
   "mimetype": "text/x-python",
   "name": "python",
   "nbconvert_exporter": "python",
   "pygments_lexer": "ipython3",
   "version": "3.6.5"
  }
 },
 "nbformat": 4,
 "nbformat_minor": 2
}
