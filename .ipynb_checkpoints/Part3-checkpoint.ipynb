{
 "cells": [
  {
   "cell_type": "code",
   "execution_count": 43,
   "metadata": {},
   "outputs": [],
   "source": [
    "# default import, might be useless\n",
    "\n",
    "# deep learning library\n",
    "import torch\n",
    "import torchvision\n",
    "from   torch.utils.data import DataLoader\n",
    "import torch.optim as optim\n",
    "import torch.nn as nn\n",
    "import torch.nn.functional as F\n",
    "\n",
    "# to import data\n",
    "import torchvision.transforms as transforms \n",
    "import torchvision.datasets.mnist as mnist  \n",
    "\n",
    "# we use torch.cuda.Event(enable_timing=True) to measure time\n",
    "# if you don't have cuda, you can use instead :\n",
    "# from timeit import default_timer as timer\n",
    "# import time\n",
    "\n",
    "import collections           # for ordered_dictionnary\n",
    "import torch.nn.init as init # to initialize model\n",
    "\n",
    "import copy # for copy.deepcopy( ... )\n",
    "\n",
    "import numpy as np\n",
    "\n",
    "# to make and display plots\n",
    "import matplotlib.pyplot as plt\n",
    "from matplotlib.pyplot import figure \n",
    "\n",
    "# to format time to strings\n",
    "import datetime                      \n",
    "\n",
    "import math # for ceil ()\n",
    "\n",
    "import IPython.display # to display .png\n",
    "\n",
    "import time\n",
    "import collections\n",
    "import os\n",
    "import sys\n",
    "import torch\n",
    "import torch.nn\n",
    "from torch.autograd import Variable\n",
    "import torch.nn as nn\n",
    "\n",
    "from torch.distributions.normal import Normal"
   ]
  },
  {
   "cell_type": "code",
   "execution_count": 2,
   "metadata": {},
   "outputs": [],
   "source": [
    "import torch\n",
    "import torchvision.datasets\n",
    "import torchvision.transforms as transforms\n",
    "from torch.utils.data import dataset\n",
    "from torch import nn\n",
    "# from torch.nn.modules import upsampling\n",
    "# from torch.functional import F\n",
    "from torch.optim import Adam"
   ]
  },
  {
   "cell_type": "code",
   "execution_count": 3,
   "metadata": {},
   "outputs": [],
   "source": [
    "image_transform = transforms.Compose([\n",
    "    transforms.ToTensor(),\n",
    "    transforms.Normalize((.5, .5, .5),\n",
    "                         (.5, .5, .5))\n",
    "])\n",
    "\n",
    "\n",
    "def get_data_loader(dataset_location, batch_size):\n",
    "    trainvalid = torchvision.datasets.SVHN(\n",
    "        dataset_location, split='train',\n",
    "        download=True,\n",
    "        transform=image_transform\n",
    "    )\n",
    "\n",
    "    trainset_size = int(len(trainvalid) * 0.9)\n",
    "    trainset, validset = dataset.random_split(\n",
    "        trainvalid,\n",
    "        [trainset_size, len(trainvalid) - trainset_size]\n",
    "    )\n",
    "\n",
    "    trainloader = torch.utils.data.DataLoader(\n",
    "        trainset,\n",
    "        batch_size=batch_size,\n",
    "        shuffle=True,\n",
    "        num_workers=2\n",
    "    )\n",
    "\n",
    "    validloader = torch.utils.data.DataLoader(\n",
    "        validset,\n",
    "        batch_size=batch_size,\n",
    "    )\n",
    "\n",
    "    testloader = torch.utils.data.DataLoader(\n",
    "        torchvision.datasets.SVHN(\n",
    "            dataset_location, split='test',\n",
    "            download=True,\n",
    "            transform=image_transform\n",
    "        ),\n",
    "        batch_size=batch_size,\n",
    "    )\n",
    "\n",
    "    return trainloader, validloader, testloader"
   ]
  },
  {
   "cell_type": "code",
   "execution_count": 3,
   "metadata": {},
   "outputs": [
    {
     "name": "stdout",
     "output_type": "stream",
     "text": [
      "Downloading http://ufldl.stanford.edu/housenumbers/train_32x32.mat to svhn\\train_32x32.mat\n",
      "Downloading http://ufldl.stanford.edu/housenumbers/test_32x32.mat to svhn\\test_32x32.mat\n"
     ]
    }
   ],
   "source": [
    "train, valid, test = get_data_loader(\"svhn\", 32)"
   ]
  },
  {
   "cell_type": "code",
   "execution_count": 4,
   "metadata": {},
   "outputs": [
    {
     "ename": "NameError",
     "evalue": "name 'train' is not defined",
     "output_type": "error",
     "traceback": [
      "\u001b[1;31m---------------------------------------------------------------------------\u001b[0m",
      "\u001b[1;31mNameError\u001b[0m                                 Traceback (most recent call last)",
      "\u001b[1;32m<ipython-input-4-c0386c4b4d5d>\u001b[0m in \u001b[0;36m<module>\u001b[1;34m()\u001b[0m\n\u001b[0;32m      9\u001b[0m \u001b[1;33m\u001b[0m\u001b[0m\n\u001b[0;32m     10\u001b[0m \u001b[1;31m# get some random training images\u001b[0m\u001b[1;33m\u001b[0m\u001b[1;33m\u001b[0m\u001b[0m\n\u001b[1;32m---> 11\u001b[1;33m \u001b[0mdataiter\u001b[0m \u001b[1;33m=\u001b[0m \u001b[0miter\u001b[0m\u001b[1;33m(\u001b[0m\u001b[0mtrain\u001b[0m\u001b[1;33m)\u001b[0m\u001b[1;33m\u001b[0m\u001b[0m\n\u001b[0m\u001b[0;32m     12\u001b[0m \u001b[0mimages\u001b[0m\u001b[1;33m,\u001b[0m \u001b[0mlabels\u001b[0m \u001b[1;33m=\u001b[0m \u001b[0mdataiter\u001b[0m\u001b[1;33m.\u001b[0m\u001b[0mnext\u001b[0m\u001b[1;33m(\u001b[0m\u001b[1;33m)\u001b[0m\u001b[1;33m\u001b[0m\u001b[0m\n\u001b[0;32m     13\u001b[0m \u001b[1;33m\u001b[0m\u001b[0m\n",
      "\u001b[1;31mNameError\u001b[0m: name 'train' is not defined"
     ]
    }
   ],
   "source": [
    "# functions to show an image\n",
    "\n",
    "def imshow(img):\n",
    "    img = 0.5*(img + 1)\n",
    "    npimg = img.numpy()\n",
    "    # npimg = (255*npimg).astype(np.uint8) # to be a int in (0,...,255)\n",
    "    plt.imshow(np.transpose(npimg, (1, 2, 0)))\n",
    "    plt.show()\n",
    "\n",
    "# get some random training images\n",
    "dataiter = iter(train)\n",
    "images, labels = dataiter.next()\n",
    "\n",
    "# show images\n",
    "imshow(torchvision.utils.make_grid(images))\n",
    "\n",
    "print( labels[0] )"
   ]
  },
  {
   "cell_type": "code",
   "execution_count": 284,
   "metadata": {},
   "outputs": [
    {
     "name": "stdout",
     "output_type": "stream",
     "text": [
      "torch.Size([3, 3, 32, 32])\n"
     ]
    },
    {
     "name": "stderr",
     "output_type": "stream",
     "text": [
      "C:\\Program Files (x86)\\Microsoft Visual Studio\\Shared\\Anaconda3_64\\lib\\site-packages\\torch\\nn\\modules\\upsampling.py:129: UserWarning: nn.UpsamplingBilinear2d is deprecated. Use nn.functional.interpolate instead.\n",
      "  warnings.warn(\"nn.{} is deprecated. Use nn.functional.interpolate instead.\".format(self.name))\n"
     ]
    }
   ],
   "source": [
    "decoder = make_standard_decoder(100)\n",
    "out = decoder.forward(torch.ones(3,100))\n",
    "print(out.shape)"
   ]
  },
  {
   "cell_type": "code",
   "execution_count": 72,
   "metadata": {},
   "outputs": [],
   "source": [
    "class UnFlatten(nn.Module):\n",
    "    def __init__(self, n_channel=16, p_size=8 ):\n",
    "        super(UnFlatten, self).__init__()\n",
    "        self.n_sample  = n_sample\n",
    "        self.p_size    = p_size\n",
    "        \n",
    "    def forward(self, input):\n",
    "        return input.view(input.size(0), self.n_channel, self.p_size, self.p_size).contiguous()\n",
    "    \n",
    "def make_standard_decoder(z_dim = 100, n_sample=1):\n",
    "    decoder = nn.Sequential(\n",
    "        nn.Linear(in_features=z_dim, out_features=4*256),\n",
    "        nn.BatchNorm1d(4*256),\n",
    "        nn.ReLU(),\n",
    "        nn.Linear(in_features=4*256, out_features=16*256),\n",
    "        nn.BatchNorm1d(16*256),\n",
    "        nn.ReLU(),\n",
    "        UnFlatten(256,4, n_sample),\n",
    "        nn.Conv2d(256, 64, kernel_size=(3, 3), padding=(2, 2)),\n",
    "        nn.BatchNorm2d(64),\n",
    "        nn.ReLU(),\n",
    "        nn.UpsamplingBilinear2d(scale_factor=2),\n",
    "        nn.Conv2d(64, 32, kernel_size=(3, 3), padding=(2, 2)),\n",
    "        nn.BatchNorm2d(32),\n",
    "        nn.ReLU(),\n",
    "        nn.UpsamplingBilinear2d(scale_factor=2),\n",
    "        nn.Conv2d(32, 16, kernel_size=(3, 3), padding=(2, 2)),\n",
    "        nn.BatchNorm2d(16),\n",
    "        nn.ReLU(),\n",
    "        nn.Conv2d(16, 8, kernel_size=(3, 3), padding=(2, 2)),\n",
    "        nn.BatchNorm2d(8),\n",
    "        nn.ReLU(),\n",
    "        nn.Conv2d(8, 4, kernel_size=(3, 3), padding=(1, 1)),\n",
    "        nn.BatchNorm2d(4),\n",
    "        nn.ReLU(),\n",
    "        nn.Conv2d(4, 3, kernel_size=(3, 3), padding=(1, 1))\n",
    "    )\n",
    "    return decoder\n",
    "\n",
    "def make_deconv_decoder(z_dim = 100):\n",
    "    decoder = nn.Sequential(\n",
    "            nn.Linear(z_dim, 16 * 8 * 8), \n",
    "            nn.ReLU(),\n",
    "            UnFlatten(),\n",
    "            nn.ConvTranspose2d(16, 32, kernel_size=3, stride=2, padding=1, output_padding=1), \n",
    "            nn.BatchNorm2d(32),\n",
    "            nn.ReLU(),\n",
    "            nn.ConvTranspose2d(32, 32, kernel_size=3, stride=1, padding=1), \n",
    "            nn.BatchNorm2d(32),\n",
    "            nn.ReLU(),\n",
    "            nn.ConvTranspose2d(32, 32, kernel_size=3, stride=2, padding=1, output_padding=1), \n",
    "            nn.BatchNorm2d(32),\n",
    "            nn.ReLU(),\n",
    "            nn.ConvTranspose2d(32,  3, kernel_size=3, stride=1, padding=1)\n",
    "        )\n",
    "    return decoder\n",
    "        \n",
    "class MLP(nn.Module):\n",
    "    \"\"\"\n",
    "    This is just an MLP with 1 hidden layer\n",
    "    \"\"\"\n",
    "    def __init__(self, in_size, h_size, out_size, dropout=0.1):\n",
    "        super(MLP, self).__init__()\n",
    "        self.w_1 = nn.Linear(in_size, h_size  )\n",
    "        self.w_2 = nn.Linear(h_size , out_size)\n",
    "        self.dropout = nn.Dropout(dropout)\n",
    "\n",
    "    def forward(self, x):\n",
    "        return self.w_2(self.dropout(F.relu(self.w_1(x))))\n",
    "\n",
    "class VAE(nn.Module):\n",
    "    def __init__(self, drop_p = 0.3, K = 1, kernel_s = 5, z_dim=100 ):\n",
    "        super(VAE, self).__init__()\n",
    "        \n",
    "        self.setIWAE(K)\n",
    "        \n",
    "        self.drop_p   = drop_p\n",
    "        self.kernel_s = kernel_s\n",
    "        pad = (kernel_s - 1)//2\n",
    "        \n",
    "        self.encoder = nn.Sequential(\n",
    "            # layer 1, input size for svhn : 3x32x32\n",
    "            nn.Conv2d(in_channels=3, out_channels=16, kernel_size=kernel_s,padding=pad),\n",
    "            nn.MaxPool2d(kernel_size=2, stride=2),\n",
    "            nn.BatchNorm2d(16),\n",
    "            nn.ReLU(),\n",
    "            nn.Dropout(p= drop_p),\n",
    "            \n",
    "            # layer 2\n",
    "            nn.Conv2d(16, 32, kernel_size=kernel_s,padding=pad),\n",
    "            nn.MaxPool2d(kernel_size=2, stride=2),\n",
    "            nn.BatchNorm2d(32),\n",
    "            nn.ReLU(),\n",
    "            nn.Dropout(p= drop_p),\n",
    "            \n",
    "            # layer 3\n",
    "            nn.Conv2d(32, 64, kernel_size=kernel_s,padding=pad),\n",
    "            nn.MaxPool2d(kernel_size=2, stride=2),\n",
    "            nn.BatchNorm2d(64),\n",
    "            nn.ReLU(),\n",
    "            nn.Dropout(p= drop_p),\n",
    "            \n",
    "            # layer 4\n",
    "            nn.Conv2d(64, 128, kernel_size=kernel_s,padding=pad),\n",
    "            nn.MaxPool2d(kernel_size=2, stride=2),\n",
    "            nn.BatchNorm2d(128),\n",
    "            nn.ReLU(),\n",
    "            nn.Dropout(p= drop_p),\n",
    "            \n",
    "            # layer 5\n",
    "            nn.Conv2d(128, 256, kernel_size=kernel_s,padding=pad),\n",
    "            # nn.MaxPool2d(kernel_size=2, stride=2),\n",
    "            nn.BatchNorm2d(256),\n",
    "            nn.ReLU(),\n",
    "            nn.Dropout(p= drop_p),\n",
    "        )\n",
    "        encoder_conv_out_size = 2*2*256\n",
    "        \n",
    "        self.encode_to_avg = MLP(encoder_conv_out_size,2048, z_dim, dropout=drop_p)\n",
    "        self.encode_to_std = nn.Sequential(\n",
    "            MLP(encoder_conv_out_size,2048, z_dim, dropout=drop_p),\n",
    "            nn.ReLU()\n",
    "        )\n",
    "        \n",
    "        # self.decoder = make_deconv_decoder(z_dim)\n",
    "        self.decoder = make_standard_decoder(z_dim, K)\n",
    "        \n",
    "        # self.decode_fitted_var = nn.Sequential(\n",
    "        #     MLP(3*32*32,128,3*32*32),\n",
    "        #     nn.ReLU(),\n",
    "        #     UnFlatten(3,32)\n",
    "        # ) # fit variance after generating the picture\n",
    "        \n",
    "        # self.decoder = make_standard_decoder(z_dim)\n",
    "    \n",
    "    def setIWAE(self, newK ):\n",
    "        self.K    = newK\n",
    "        if newK > 1 :\n",
    "            self.IWAE = True\n",
    "        else :\n",
    "            self.IWAE = False\n",
    "        \n",
    "    def encode(self, x):\n",
    "        h = self.encoder(x).view(x.size(0),-1)\n",
    "        mu, std = self.encode_to_avg(h), self.encode_to_std(h)\n",
    "        std = std + 1e-03 # added for stability, so that outout > 0\n",
    "        return mu, std\n",
    "\n",
    "    def reparameterize(self, m, v):\n",
    "        if self.IWAE :\n",
    "            bs = m.size(0)\n",
    "            K  = self.K\n",
    "            dz = m.size(-1)\n",
    "            \n",
    "            m = m.unsqueeze(1).repeat(1,K,1).contiguous() # (bs,K,dimz)\n",
    "            m = m.view(bs*K,dz).contiguous()              # (bs*K,dimz)\n",
    "            \n",
    "            v = v.unsqueeze(1).repeat(1,K,1).contiguous() # (bs,K,dimz)\n",
    "            v = v.view(bs*K,dz).contiguous()              # (bs*K,dimz)\n",
    "            \n",
    "            eps = torch.randn_line(v)\n",
    "            z   = m + eps*v \n",
    "        else : # only one sample for ELBO\n",
    "            eps = torch.randn_like(v)\n",
    "            z   = m + eps*v\n",
    "        return z\n",
    "\n",
    "    def decode(self, z):\n",
    "        return self.decoder(z)\n",
    "\n",
    "    def forward(self, x):\n",
    "        mu, std = self.encode(x)\n",
    "        z = self.reparameterize(mu, std)\n",
    "        x_hat = self.decode(z)\n",
    "        # v_hat = self.decode_fitted_var(x_hat.view(x.size(0),-1)) + 1e-03 # added for stability, so that outout > 0\n",
    "        return x_hat, mu, std # beware : if self.K > 1, x_hat and x dont have the same shape\n",
    "    \n",
    "    def init(self):\n",
    "        def init_(layer):\n",
    "            if type(layer) == nn.Linear or type(layer) == nn.Conv2d or type(layer) == nn.ConvTranspose2d:\n",
    "                init.xavier_uniform_( layer.weight )\n",
    "                layer.bias.data.fill_(0.0)\n",
    "        self.apply(init_)"
   ]
  },
  {
   "cell_type": "code",
   "execution_count": 73,
   "metadata": {},
   "outputs": [],
   "source": [
    "def number_of_params( net ) :\n",
    "    nb_param  = 0\n",
    "    depth     = 0 # count the number of different bias\n",
    "    param_lst = \" \"\n",
    "    for i, (key, value) in enumerate( net.state_dict().items() ) :\n",
    "        if key.endswith(\"bias\") :\n",
    "            depth = depth + 1            \n",
    "        nb_param_tmp = 1        \n",
    "        for j , x in enumerate(value.size()) :               \n",
    "            nb_param_tmp = nb_param_tmp * x                \n",
    "        nb_param = nb_param + nb_param_tmp     \n",
    "    return nb_param, depth"
   ]
  },
  {
   "cell_type": "code",
   "execution_count": 74,
   "metadata": {},
   "outputs": [
    {
     "name": "stdout",
     "output_type": "stream",
     "text": [
      "10194863\n"
     ]
    }
   ],
   "source": [
    "model = VAE(drop_p = 0.1, K = 5)\n",
    "num_p, depth = number_of_params( model )\n",
    "print( num_p )"
   ]
  },
  {
   "cell_type": "code",
   "execution_count": 75,
   "metadata": {},
   "outputs": [],
   "source": [
    "model_VAE = VAE(drop_p = 0.1, K = 5)\n",
    "model_VAE.init()\n",
    "_ = model_VAE.to(device)"
   ]
  },
  {
   "cell_type": "code",
   "execution_count": 76,
   "metadata": {},
   "outputs": [
    {
     "ename": "RuntimeError",
     "evalue": "running_mean should contain 5 elements not 1024",
     "output_type": "error",
     "traceback": [
      "\u001b[1;31m---------------------------------------------------------------------------\u001b[0m",
      "\u001b[1;31mRuntimeError\u001b[0m                              Traceback (most recent call last)",
      "\u001b[1;32m<ipython-input-76-7fa64b063b77>\u001b[0m in \u001b[0;36m<module>\u001b[1;34m()\u001b[0m\n\u001b[0;32m      2\u001b[0m \u001b[0mimages\u001b[0m\u001b[1;33m,\u001b[0m \u001b[0mlabels\u001b[0m \u001b[1;33m=\u001b[0m \u001b[0mdataiter\u001b[0m\u001b[1;33m.\u001b[0m\u001b[0mnext\u001b[0m\u001b[1;33m(\u001b[0m\u001b[1;33m)\u001b[0m\u001b[1;33m\u001b[0m\u001b[0m\n\u001b[0;32m      3\u001b[0m \u001b[0mimages\u001b[0m \u001b[1;33m=\u001b[0m \u001b[0mimages\u001b[0m\u001b[1;33m.\u001b[0m\u001b[0mto\u001b[0m\u001b[1;33m(\u001b[0m\u001b[0mdevice\u001b[0m\u001b[1;33m)\u001b[0m\u001b[1;33m\u001b[0m\u001b[0m\n\u001b[1;32m----> 4\u001b[1;33m \u001b[0mprint\u001b[0m\u001b[1;33m(\u001b[0m \u001b[0mmodel_VAE\u001b[0m\u001b[1;33m(\u001b[0m\u001b[0mimages\u001b[0m\u001b[1;33m)\u001b[0m\u001b[1;33m[\u001b[0m\u001b[1;36m0\u001b[0m\u001b[1;33m]\u001b[0m\u001b[1;33m.\u001b[0m\u001b[0mshape\u001b[0m \u001b[1;33m)\u001b[0m\u001b[1;33m\u001b[0m\u001b[0m\n\u001b[0m\u001b[0;32m      5\u001b[0m \u001b[0mprint\u001b[0m\u001b[1;33m(\u001b[0m \u001b[0mmodel_VAE\u001b[0m\u001b[1;33m(\u001b[0m\u001b[0mimages\u001b[0m\u001b[1;33m)\u001b[0m\u001b[1;33m[\u001b[0m\u001b[1;36m0\u001b[0m\u001b[1;33m]\u001b[0m\u001b[1;33m.\u001b[0m\u001b[0mmin\u001b[0m\u001b[1;33m(\u001b[0m\u001b[1;33m)\u001b[0m \u001b[1;33m)\u001b[0m\u001b[1;33m\u001b[0m\u001b[0m\n\u001b[0;32m      6\u001b[0m \u001b[0mprint\u001b[0m\u001b[1;33m(\u001b[0m \u001b[0mmodel_VAE\u001b[0m\u001b[1;33m(\u001b[0m\u001b[0mimages\u001b[0m\u001b[1;33m)\u001b[0m\u001b[1;33m[\u001b[0m\u001b[1;36m0\u001b[0m\u001b[1;33m]\u001b[0m\u001b[1;33m.\u001b[0m\u001b[0mmax\u001b[0m\u001b[1;33m(\u001b[0m\u001b[1;33m)\u001b[0m \u001b[1;33m)\u001b[0m\u001b[1;33m\u001b[0m\u001b[0m\n",
      "\u001b[1;32mC:\\Program Files (x86)\\Microsoft Visual Studio\\Shared\\Anaconda3_64\\lib\\site-packages\\torch\\nn\\modules\\module.py\u001b[0m in \u001b[0;36m__call__\u001b[1;34m(self, *input, **kwargs)\u001b[0m\n\u001b[0;32m    487\u001b[0m             \u001b[0mresult\u001b[0m \u001b[1;33m=\u001b[0m \u001b[0mself\u001b[0m\u001b[1;33m.\u001b[0m\u001b[0m_slow_forward\u001b[0m\u001b[1;33m(\u001b[0m\u001b[1;33m*\u001b[0m\u001b[0minput\u001b[0m\u001b[1;33m,\u001b[0m \u001b[1;33m**\u001b[0m\u001b[0mkwargs\u001b[0m\u001b[1;33m)\u001b[0m\u001b[1;33m\u001b[0m\u001b[0m\n\u001b[0;32m    488\u001b[0m         \u001b[1;32melse\u001b[0m\u001b[1;33m:\u001b[0m\u001b[1;33m\u001b[0m\u001b[0m\n\u001b[1;32m--> 489\u001b[1;33m             \u001b[0mresult\u001b[0m \u001b[1;33m=\u001b[0m \u001b[0mself\u001b[0m\u001b[1;33m.\u001b[0m\u001b[0mforward\u001b[0m\u001b[1;33m(\u001b[0m\u001b[1;33m*\u001b[0m\u001b[0minput\u001b[0m\u001b[1;33m,\u001b[0m \u001b[1;33m**\u001b[0m\u001b[0mkwargs\u001b[0m\u001b[1;33m)\u001b[0m\u001b[1;33m\u001b[0m\u001b[0m\n\u001b[0m\u001b[0;32m    490\u001b[0m         \u001b[1;32mfor\u001b[0m \u001b[0mhook\u001b[0m \u001b[1;32min\u001b[0m \u001b[0mself\u001b[0m\u001b[1;33m.\u001b[0m\u001b[0m_forward_hooks\u001b[0m\u001b[1;33m.\u001b[0m\u001b[0mvalues\u001b[0m\u001b[1;33m(\u001b[0m\u001b[1;33m)\u001b[0m\u001b[1;33m:\u001b[0m\u001b[1;33m\u001b[0m\u001b[0m\n\u001b[0;32m    491\u001b[0m             \u001b[0mhook_result\u001b[0m \u001b[1;33m=\u001b[0m \u001b[0mhook\u001b[0m\u001b[1;33m(\u001b[0m\u001b[0mself\u001b[0m\u001b[1;33m,\u001b[0m \u001b[0minput\u001b[0m\u001b[1;33m,\u001b[0m \u001b[0mresult\u001b[0m\u001b[1;33m)\u001b[0m\u001b[1;33m\u001b[0m\u001b[0m\n",
      "\u001b[1;32m<ipython-input-72-2cd5d6c6eeab>\u001b[0m in \u001b[0;36mforward\u001b[1;34m(self, x)\u001b[0m\n\u001b[0;32m    166\u001b[0m         \u001b[0mmu\u001b[0m\u001b[1;33m,\u001b[0m \u001b[0mstd\u001b[0m \u001b[1;33m=\u001b[0m \u001b[0mself\u001b[0m\u001b[1;33m.\u001b[0m\u001b[0mencode\u001b[0m\u001b[1;33m(\u001b[0m\u001b[0mx\u001b[0m\u001b[1;33m)\u001b[0m\u001b[1;33m\u001b[0m\u001b[0m\n\u001b[0;32m    167\u001b[0m         \u001b[0mz\u001b[0m \u001b[1;33m=\u001b[0m \u001b[0mself\u001b[0m\u001b[1;33m.\u001b[0m\u001b[0mreparameterize\u001b[0m\u001b[1;33m(\u001b[0m\u001b[0mmu\u001b[0m\u001b[1;33m,\u001b[0m \u001b[0mstd\u001b[0m\u001b[1;33m)\u001b[0m\u001b[1;33m\u001b[0m\u001b[0m\n\u001b[1;32m--> 168\u001b[1;33m         \u001b[0mx_hat\u001b[0m \u001b[1;33m=\u001b[0m \u001b[0mself\u001b[0m\u001b[1;33m.\u001b[0m\u001b[0mdecode\u001b[0m\u001b[1;33m(\u001b[0m\u001b[0mz\u001b[0m\u001b[1;33m)\u001b[0m\u001b[1;33m\u001b[0m\u001b[0m\n\u001b[0m\u001b[0;32m    169\u001b[0m         \u001b[1;31m# v_hat = self.decode_fitted_var(x_hat.view(x.size(0),-1)) + 1e-03 # added for stability, so that outout > 0\u001b[0m\u001b[1;33m\u001b[0m\u001b[1;33m\u001b[0m\u001b[0m\n\u001b[0;32m    170\u001b[0m \u001b[1;33m\u001b[0m\u001b[0m\n",
      "\u001b[1;32m<ipython-input-72-2cd5d6c6eeab>\u001b[0m in \u001b[0;36mdecode\u001b[1;34m(self, z)\u001b[0m\n\u001b[0;32m    161\u001b[0m \u001b[1;33m\u001b[0m\u001b[0m\n\u001b[0;32m    162\u001b[0m     \u001b[1;32mdef\u001b[0m \u001b[0mdecode\u001b[0m\u001b[1;33m(\u001b[0m\u001b[0mself\u001b[0m\u001b[1;33m,\u001b[0m \u001b[0mz\u001b[0m\u001b[1;33m)\u001b[0m\u001b[1;33m:\u001b[0m\u001b[1;33m\u001b[0m\u001b[0m\n\u001b[1;32m--> 163\u001b[1;33m         \u001b[1;32mreturn\u001b[0m \u001b[0mself\u001b[0m\u001b[1;33m.\u001b[0m\u001b[0mdecoder\u001b[0m\u001b[1;33m(\u001b[0m\u001b[0mz\u001b[0m\u001b[1;33m)\u001b[0m\u001b[1;33m\u001b[0m\u001b[0m\n\u001b[0m\u001b[0;32m    164\u001b[0m \u001b[1;33m\u001b[0m\u001b[0m\n\u001b[0;32m    165\u001b[0m     \u001b[1;32mdef\u001b[0m \u001b[0mforward\u001b[0m\u001b[1;33m(\u001b[0m\u001b[0mself\u001b[0m\u001b[1;33m,\u001b[0m \u001b[0mx\u001b[0m\u001b[1;33m)\u001b[0m\u001b[1;33m:\u001b[0m\u001b[1;33m\u001b[0m\u001b[0m\n",
      "\u001b[1;32mC:\\Program Files (x86)\\Microsoft Visual Studio\\Shared\\Anaconda3_64\\lib\\site-packages\\torch\\nn\\modules\\module.py\u001b[0m in \u001b[0;36m__call__\u001b[1;34m(self, *input, **kwargs)\u001b[0m\n\u001b[0;32m    487\u001b[0m             \u001b[0mresult\u001b[0m \u001b[1;33m=\u001b[0m \u001b[0mself\u001b[0m\u001b[1;33m.\u001b[0m\u001b[0m_slow_forward\u001b[0m\u001b[1;33m(\u001b[0m\u001b[1;33m*\u001b[0m\u001b[0minput\u001b[0m\u001b[1;33m,\u001b[0m \u001b[1;33m**\u001b[0m\u001b[0mkwargs\u001b[0m\u001b[1;33m)\u001b[0m\u001b[1;33m\u001b[0m\u001b[0m\n\u001b[0;32m    488\u001b[0m         \u001b[1;32melse\u001b[0m\u001b[1;33m:\u001b[0m\u001b[1;33m\u001b[0m\u001b[0m\n\u001b[1;32m--> 489\u001b[1;33m             \u001b[0mresult\u001b[0m \u001b[1;33m=\u001b[0m \u001b[0mself\u001b[0m\u001b[1;33m.\u001b[0m\u001b[0mforward\u001b[0m\u001b[1;33m(\u001b[0m\u001b[1;33m*\u001b[0m\u001b[0minput\u001b[0m\u001b[1;33m,\u001b[0m \u001b[1;33m**\u001b[0m\u001b[0mkwargs\u001b[0m\u001b[1;33m)\u001b[0m\u001b[1;33m\u001b[0m\u001b[0m\n\u001b[0m\u001b[0;32m    490\u001b[0m         \u001b[1;32mfor\u001b[0m \u001b[0mhook\u001b[0m \u001b[1;32min\u001b[0m \u001b[0mself\u001b[0m\u001b[1;33m.\u001b[0m\u001b[0m_forward_hooks\u001b[0m\u001b[1;33m.\u001b[0m\u001b[0mvalues\u001b[0m\u001b[1;33m(\u001b[0m\u001b[1;33m)\u001b[0m\u001b[1;33m:\u001b[0m\u001b[1;33m\u001b[0m\u001b[0m\n\u001b[0;32m    491\u001b[0m             \u001b[0mhook_result\u001b[0m \u001b[1;33m=\u001b[0m \u001b[0mhook\u001b[0m\u001b[1;33m(\u001b[0m\u001b[0mself\u001b[0m\u001b[1;33m,\u001b[0m \u001b[0minput\u001b[0m\u001b[1;33m,\u001b[0m \u001b[0mresult\u001b[0m\u001b[1;33m)\u001b[0m\u001b[1;33m\u001b[0m\u001b[0m\n",
      "\u001b[1;32mC:\\Program Files (x86)\\Microsoft Visual Studio\\Shared\\Anaconda3_64\\lib\\site-packages\\torch\\nn\\modules\\container.py\u001b[0m in \u001b[0;36mforward\u001b[1;34m(self, input)\u001b[0m\n\u001b[0;32m     90\u001b[0m     \u001b[1;32mdef\u001b[0m \u001b[0mforward\u001b[0m\u001b[1;33m(\u001b[0m\u001b[0mself\u001b[0m\u001b[1;33m,\u001b[0m \u001b[0minput\u001b[0m\u001b[1;33m)\u001b[0m\u001b[1;33m:\u001b[0m\u001b[1;33m\u001b[0m\u001b[0m\n\u001b[0;32m     91\u001b[0m         \u001b[1;32mfor\u001b[0m \u001b[0mmodule\u001b[0m \u001b[1;32min\u001b[0m \u001b[0mself\u001b[0m\u001b[1;33m.\u001b[0m\u001b[0m_modules\u001b[0m\u001b[1;33m.\u001b[0m\u001b[0mvalues\u001b[0m\u001b[1;33m(\u001b[0m\u001b[1;33m)\u001b[0m\u001b[1;33m:\u001b[0m\u001b[1;33m\u001b[0m\u001b[0m\n\u001b[1;32m---> 92\u001b[1;33m             \u001b[0minput\u001b[0m \u001b[1;33m=\u001b[0m \u001b[0mmodule\u001b[0m\u001b[1;33m(\u001b[0m\u001b[0minput\u001b[0m\u001b[1;33m)\u001b[0m\u001b[1;33m\u001b[0m\u001b[0m\n\u001b[0m\u001b[0;32m     93\u001b[0m         \u001b[1;32mreturn\u001b[0m \u001b[0minput\u001b[0m\u001b[1;33m\u001b[0m\u001b[0m\n\u001b[0;32m     94\u001b[0m \u001b[1;33m\u001b[0m\u001b[0m\n",
      "\u001b[1;32mC:\\Program Files (x86)\\Microsoft Visual Studio\\Shared\\Anaconda3_64\\lib\\site-packages\\torch\\nn\\modules\\module.py\u001b[0m in \u001b[0;36m__call__\u001b[1;34m(self, *input, **kwargs)\u001b[0m\n\u001b[0;32m    487\u001b[0m             \u001b[0mresult\u001b[0m \u001b[1;33m=\u001b[0m \u001b[0mself\u001b[0m\u001b[1;33m.\u001b[0m\u001b[0m_slow_forward\u001b[0m\u001b[1;33m(\u001b[0m\u001b[1;33m*\u001b[0m\u001b[0minput\u001b[0m\u001b[1;33m,\u001b[0m \u001b[1;33m**\u001b[0m\u001b[0mkwargs\u001b[0m\u001b[1;33m)\u001b[0m\u001b[1;33m\u001b[0m\u001b[0m\n\u001b[0;32m    488\u001b[0m         \u001b[1;32melse\u001b[0m\u001b[1;33m:\u001b[0m\u001b[1;33m\u001b[0m\u001b[0m\n\u001b[1;32m--> 489\u001b[1;33m             \u001b[0mresult\u001b[0m \u001b[1;33m=\u001b[0m \u001b[0mself\u001b[0m\u001b[1;33m.\u001b[0m\u001b[0mforward\u001b[0m\u001b[1;33m(\u001b[0m\u001b[1;33m*\u001b[0m\u001b[0minput\u001b[0m\u001b[1;33m,\u001b[0m \u001b[1;33m**\u001b[0m\u001b[0mkwargs\u001b[0m\u001b[1;33m)\u001b[0m\u001b[1;33m\u001b[0m\u001b[0m\n\u001b[0m\u001b[0;32m    490\u001b[0m         \u001b[1;32mfor\u001b[0m \u001b[0mhook\u001b[0m \u001b[1;32min\u001b[0m \u001b[0mself\u001b[0m\u001b[1;33m.\u001b[0m\u001b[0m_forward_hooks\u001b[0m\u001b[1;33m.\u001b[0m\u001b[0mvalues\u001b[0m\u001b[1;33m(\u001b[0m\u001b[1;33m)\u001b[0m\u001b[1;33m:\u001b[0m\u001b[1;33m\u001b[0m\u001b[0m\n\u001b[0;32m    491\u001b[0m             \u001b[0mhook_result\u001b[0m \u001b[1;33m=\u001b[0m \u001b[0mhook\u001b[0m\u001b[1;33m(\u001b[0m\u001b[0mself\u001b[0m\u001b[1;33m,\u001b[0m \u001b[0minput\u001b[0m\u001b[1;33m,\u001b[0m \u001b[0mresult\u001b[0m\u001b[1;33m)\u001b[0m\u001b[1;33m\u001b[0m\u001b[0m\n",
      "\u001b[1;32mC:\\Program Files (x86)\\Microsoft Visual Studio\\Shared\\Anaconda3_64\\lib\\site-packages\\torch\\nn\\modules\\batchnorm.py\u001b[0m in \u001b[0;36mforward\u001b[1;34m(self, input)\u001b[0m\n\u001b[0;32m     74\u001b[0m             \u001b[0minput\u001b[0m\u001b[1;33m,\u001b[0m \u001b[0mself\u001b[0m\u001b[1;33m.\u001b[0m\u001b[0mrunning_mean\u001b[0m\u001b[1;33m,\u001b[0m \u001b[0mself\u001b[0m\u001b[1;33m.\u001b[0m\u001b[0mrunning_var\u001b[0m\u001b[1;33m,\u001b[0m \u001b[0mself\u001b[0m\u001b[1;33m.\u001b[0m\u001b[0mweight\u001b[0m\u001b[1;33m,\u001b[0m \u001b[0mself\u001b[0m\u001b[1;33m.\u001b[0m\u001b[0mbias\u001b[0m\u001b[1;33m,\u001b[0m\u001b[1;33m\u001b[0m\u001b[0m\n\u001b[0;32m     75\u001b[0m             \u001b[0mself\u001b[0m\u001b[1;33m.\u001b[0m\u001b[0mtraining\u001b[0m \u001b[1;32mor\u001b[0m \u001b[1;32mnot\u001b[0m \u001b[0mself\u001b[0m\u001b[1;33m.\u001b[0m\u001b[0mtrack_running_stats\u001b[0m\u001b[1;33m,\u001b[0m\u001b[1;33m\u001b[0m\u001b[0m\n\u001b[1;32m---> 76\u001b[1;33m             exponential_average_factor, self.eps)\n\u001b[0m\u001b[0;32m     77\u001b[0m \u001b[1;33m\u001b[0m\u001b[0m\n\u001b[0;32m     78\u001b[0m     \u001b[1;32mdef\u001b[0m \u001b[0mextra_repr\u001b[0m\u001b[1;33m(\u001b[0m\u001b[0mself\u001b[0m\u001b[1;33m)\u001b[0m\u001b[1;33m:\u001b[0m\u001b[1;33m\u001b[0m\u001b[0m\n",
      "\u001b[1;32mC:\\Program Files (x86)\\Microsoft Visual Studio\\Shared\\Anaconda3_64\\lib\\site-packages\\torch\\nn\\functional.py\u001b[0m in \u001b[0;36mbatch_norm\u001b[1;34m(input, running_mean, running_var, weight, bias, training, momentum, eps)\u001b[0m\n\u001b[0;32m   1621\u001b[0m     return torch.batch_norm(\n\u001b[0;32m   1622\u001b[0m         \u001b[0minput\u001b[0m\u001b[1;33m,\u001b[0m \u001b[0mweight\u001b[0m\u001b[1;33m,\u001b[0m \u001b[0mbias\u001b[0m\u001b[1;33m,\u001b[0m \u001b[0mrunning_mean\u001b[0m\u001b[1;33m,\u001b[0m \u001b[0mrunning_var\u001b[0m\u001b[1;33m,\u001b[0m\u001b[1;33m\u001b[0m\u001b[0m\n\u001b[1;32m-> 1623\u001b[1;33m         \u001b[0mtraining\u001b[0m\u001b[1;33m,\u001b[0m \u001b[0mmomentum\u001b[0m\u001b[1;33m,\u001b[0m \u001b[0meps\u001b[0m\u001b[1;33m,\u001b[0m \u001b[0mtorch\u001b[0m\u001b[1;33m.\u001b[0m\u001b[0mbackends\u001b[0m\u001b[1;33m.\u001b[0m\u001b[0mcudnn\u001b[0m\u001b[1;33m.\u001b[0m\u001b[0menabled\u001b[0m\u001b[1;33m\u001b[0m\u001b[0m\n\u001b[0m\u001b[0;32m   1624\u001b[0m     )\n\u001b[0;32m   1625\u001b[0m \u001b[1;33m\u001b[0m\u001b[0m\n",
      "\u001b[1;31mRuntimeError\u001b[0m: running_mean should contain 5 elements not 1024"
     ]
    }
   ],
   "source": [
    "dataiter = iter(trainset)\n",
    "images, labels = dataiter.next()\n",
    "images = images.to(device)\n",
    "out =  model_VAE(images)\n",
    "print( out[0].shape )\n",
    "print( out[0].min() )\n",
    "print( out[0].max() )"
   ]
  },
  {
   "cell_type": "code",
   "execution_count": null,
   "metadata": {},
   "outputs": [],
   "source": []
  },
  {
   "cell_type": "code",
   "execution_count": 26,
   "metadata": {},
   "outputs": [],
   "source": [
    "def kl_loss(z_avg, z_std):\n",
    "    kl_loss = 0.5 * torch.sum(-1 - 2*z_std.log() + z_avg**2 + z_std**2, dim=-1)\n",
    "    return kl_loss\n",
    "\n",
    "sqrt_2p = math.log(2 * math.pi)\n",
    "def log_px_z(x, x_decoded_mean):\n",
    "    # loss = 0.5 * ( sqrt_2p + x_decoded_var.log() + (x - x_decoded_mean)**2 /x_decoded_var )\n",
    "    loss = 0.5 * ( sqrt_2p + (x - x_decoded_mean)**2 )\n",
    "    loss = torch.sum(loss.view(x.size(0),-1), dim=-1)\n",
    "    return -loss\n",
    "\n",
    "def vae_loss(x, x_hat, z_avg, z_std):\n",
    "    logprob = log_px_z(x, x_hat)\n",
    "    kldiv   = kl_loss(z_avg, z_std)\n",
    "    kldiv_  = torch.max(kldiv, 5 * torch.ones_like(kldiv)) # prevent kl_div to go to zero\n",
    "    return - ( logprob - kldiv_), kldiv\n",
    "\n",
    "def IWAE_loss(x , x_hat, z, z_avg, z_std):\n",
    "    # x     is (bs,    3, 32, 32)\n",
    "    # x_hat is (bs, K, 3, 32, 32)\n",
    "    # z     is (bs, K, 100)\n",
    "    # z_avg is (bs, 100)\n",
    "    \n",
    "    bs = x_hat.size(0)\n",
    "    K  = x_hat.size(1)\n",
    "    \n",
    "    x     = x.unsqueeze(1)\n",
    "    z_avg = z_avg.unsqueeze(1)\n",
    "    z_std = z_std.unsqueeze(1)\n",
    "        \n",
    "    prior     = Normal( torch.zeros(1,1,z_dim) , torch.ones(1,1,z_dim) )\n",
    "    posterior = Normal( z_avg , z_std )\n",
    "\n",
    "    log_qz_x = posterior.log_prob(z).sum(-1)  \n",
    "    log_pz   = prior.log_prob(z).sum(-1)  \n",
    "    log_px_z = - 0.5 * ( sqrt_2p + (x - x_hat)**2 )\n",
    "    log_px_z = torch.sum(log_px_z.view(bs,K,-1), dim=-1)\n",
    "    \n",
    "    ESM     = log_pz + log_px_z - log_qz_x\n",
    "    ESM_max = ESM.max(-1)\n",
    "    LK      = torch.sum(ESM - ESM_max, dim=-1) - K.log() + ESM_max\n",
    "    \n",
    "    loss = - LK.mean()\n",
    "    return loss\n",
    "    \n",
    "            "
   ]
  },
  {
   "cell_type": "code",
   "execution_count": 16,
   "metadata": {},
   "outputs": [
    {
     "name": "stdout",
     "output_type": "stream",
     "text": [
      "Using downloaded and verified file: svhn\\train_32x32.mat\n",
      "Using downloaded and verified file: svhn\\test_32x32.mat\n"
     ]
    }
   ],
   "source": [
    "# sets are called train, valid, test\n",
    "batch_size = 512\n",
    "trainset, validset, testset = get_data_loader(\"svhn\", batch_size)"
   ]
  },
  {
   "cell_type": "code",
   "execution_count": 27,
   "metadata": {},
   "outputs": [
    {
     "name": "stdout",
     "output_type": "stream",
     "text": [
      "Using the GPU\n"
     ]
    }
   ],
   "source": [
    "# Use the GPU if you have one\n",
    "if torch.cuda.is_available():\n",
    "    print(\"Using the GPU\")\n",
    "    device = torch.device(\"cuda\") \n",
    "else:\n",
    "    print(\"WARNING: You are about to run on cpu\")\n",
    "    device = torch.device(\"cpu\")\n",
    "\n",
    "\n",
    "def train(model,optimizer,loader,epoch):\n",
    "    model.train()\n",
    "    train_loss = 0\n",
    "    train_step = 0\n",
    "    for batch_idx, (data,_) in enumerate(loader):\n",
    "        if batch_idx == 0:\n",
    "            bs = data.size(0) # batch size \n",
    "            \n",
    "        data = data.to(device)\n",
    "        optimizer.zero_grad()\n",
    "        x_hat, z_avg, z_std = model(data)\n",
    "        loss, kl_div = vae_loss(data, x_hat, z_avg, z_std)\n",
    "        loss = loss.mean()\n",
    "        kl_div = kl_div.mean()\n",
    "        train_loss += loss.item()\n",
    "        loss.backward()\n",
    "        optimizer.step()\n",
    "        if batch_idx % 100 == 0:\n",
    "            n_batch_seen = batch_idx + 1\n",
    "            print('Train Epoch: {} ({:.0f}%)\\tELBO: {:.6f} \\tKL div: {:.6f}'.format(\n",
    "                epoch, 100* n_batch_seen // len(loader), train_loss / n_batch_seen, kl_div) )\n",
    "\n",
    "    # Normalize per instance\n",
    "    avg_loss = train_loss / len(loader)\n",
    "    print('====> Epoch: {} - Train set - Per instance ELBO: {:.4f}'.format(\n",
    "        epoch, avg_loss ))\n",
    "    return avg_loss\n",
    "\n",
    "def valid(model,optimizer,loader,epoch):\n",
    "    model.eval()\n",
    "    test_loss = 0\n",
    "    with torch.no_grad():\n",
    "        for batch_idx, (data,_) in enumerate(loader):\n",
    "            if batch_idx == 0:\n",
    "                bs = data.size(0) # batch size \n",
    "                \n",
    "            data = data.to(device)\n",
    "            x_hat, z_avg, z_std = model(data)\n",
    "            loss, _ = vae_loss(data, x_hat, z_avg, z_std)\n",
    "            loss    = loss.mean()\n",
    "            test_loss += loss.item()\n",
    "                \n",
    "    # Normalize per instance.\n",
    "    avg_loss = test_loss / len(loader)                \n",
    "    print('====> Epoch: {} - Test set - Per Instance ELBO: {:.4f}'.format(\n",
    "        epoch, avg_loss))\n",
    "    return avg_loss"
   ]
  },
  {
   "cell_type": "code",
   "execution_count": 18,
   "metadata": {},
   "outputs": [
    {
     "name": "stdout",
     "output_type": "stream",
     "text": [
      "65931\n",
      "7326\n",
      "26032\n"
     ]
    }
   ],
   "source": [
    "print(len(trainset.dataset))\n",
    "print(len(validset.dataset))\n",
    "print(len(testset.dataset))"
   ]
  },
  {
   "cell_type": "code",
   "execution_count": 30,
   "metadata": {},
   "outputs": [],
   "source": [
    "save_dir = \"save\"\n",
    "\n",
    "train_losses = []\n",
    "valid_losses = []\n",
    "times        = []\n",
    "best_val_so_far = np.inf"
   ]
  },
  {
   "cell_type": "code",
   "execution_count": 35,
   "metadata": {},
   "outputs": [],
   "source": [
    "model_VAE = VAE(drop_p = 0.15)\n",
    "model_VAE.init()"
   ]
  },
  {
   "cell_type": "code",
   "execution_count": 36,
   "metadata": {},
   "outputs": [],
   "source": [
    "# optimizer = optim.Adam(model_VAE.parameters(), lr=0.1*1e-3, eps=1e-4)\n",
    "optimizer = optim.Adam(model_VAE.parameters())\n",
    "cuda = torch.cuda.is_available()\n",
    "if cuda:\n",
    "    model_VAE = model_VAE.cuda()"
   ]
  },
  {
   "cell_type": "code",
   "execution_count": 40,
   "metadata": {
    "scrolled": true
   },
   "outputs": [
    {
     "name": "stdout",
     "output_type": "stream",
     "text": [
      "Train Epoch: 1 (0%)\tELBO: 2895.635986 \tKL div: 10.212614\n",
      "Train Epoch: 1 (78%)\tELBO: 2898.502117 \tKL div: 10.912676\n",
      "====> Epoch: 1 - Train set - Per instance ELBO: 2898.1958\n",
      "====> Epoch: 1 - Test set - Per Instance ELBO: 2897.2894\n",
      "epoch: 1\n",
      "train loss: 2898.1957799630572\n",
      "valid loss: 2897.2894205729167\n",
      "best val: 2897.038525390625\n",
      "time (s) spent in epoch: 76.3903694152832\n",
      "Train Epoch: 2 (0%)\tELBO: 2897.935059 \tKL div: 10.388031\n",
      "Train Epoch: 2 (78%)\tELBO: 2897.046517 \tKL div: 10.636879\n",
      "====> Epoch: 2 - Train set - Per instance ELBO: 2897.0828\n",
      "====> Epoch: 2 - Test set - Per Instance ELBO: 2893.9048\n",
      "Saving model parameters to best_params.pt\n",
      "epoch: 2\n",
      "train loss: 2897.0828185562013\n",
      "valid loss: 2893.9047688802084\n",
      "best val: 2893.9047688802084\n",
      "time (s) spent in epoch: 70.89005470275879\n",
      "Train Epoch: 3 (0%)\tELBO: 2898.004883 \tKL div: 10.466680\n",
      "Train Epoch: 3 (78%)\tELBO: 2896.935685 \tKL div: 10.016334\n",
      "====> Epoch: 3 - Train set - Per instance ELBO: 2896.6986\n",
      "====> Epoch: 3 - Test set - Per Instance ELBO: 2894.5280\n",
      "epoch: 3\n",
      "train loss: 2896.698620700097\n",
      "valid loss: 2894.528011067708\n",
      "best val: 2893.9047688802084\n",
      "time (s) spent in epoch: 71.8551094532013\n",
      "Train Epoch: 4 (0%)\tELBO: 2896.929199 \tKL div: 10.018970\n",
      "Train Epoch: 4 (78%)\tELBO: 2896.606987 \tKL div: 10.240098\n",
      "====> Epoch: 4 - Train set - Per instance ELBO: 2896.5335\n",
      "====> Epoch: 4 - Test set - Per Instance ELBO: 2896.5902\n",
      "epoch: 4\n",
      "train loss: 2896.533464298692\n",
      "valid loss: 2896.590152994792\n",
      "best val: 2893.9047688802084\n",
      "time (s) spent in epoch: 71.7721049785614\n",
      "Train Epoch: 5 (0%)\tELBO: 2900.319824 \tKL div: 10.584577\n",
      "Train Epoch: 5 (78%)\tELBO: 2895.391440 \tKL div: 10.743620\n",
      "====> Epoch: 5 - Train set - Per instance ELBO: 2895.2988\n",
      "====> Epoch: 5 - Test set - Per Instance ELBO: 2893.7683\n",
      "Saving model parameters to best_params.pt\n",
      "epoch: 5\n",
      "train loss: 2895.2987656704213\n",
      "valid loss: 2893.768310546875\n",
      "best val: 2893.768310546875\n",
      "time (s) spent in epoch: 71.1560697555542\n",
      "Train Epoch: 6 (0%)\tELBO: 2892.484375 \tKL div: 11.110948\n",
      "Train Epoch: 6 (78%)\tELBO: 2894.808526 \tKL div: 10.701527\n",
      "====> Epoch: 6 - Train set - Per instance ELBO: 2894.6958\n",
      "====> Epoch: 6 - Test set - Per Instance ELBO: 2892.5917\n",
      "Saving model parameters to best_params.pt\n",
      "epoch: 6\n",
      "train loss: 2894.6958443101985\n",
      "valid loss: 2892.591748046875\n",
      "best val: 2892.591748046875\n",
      "time (s) spent in epoch: 71.60209536552429\n",
      "Train Epoch: 7 (0%)\tELBO: 2894.480225 \tKL div: 10.715502\n"
     ]
    },
    {
     "ename": "KeyboardInterrupt",
     "evalue": "",
     "output_type": "error",
     "traceback": [
      "\u001b[1;31m---------------------------------------------------------------------------\u001b[0m",
      "\u001b[1;31mKeyboardInterrupt\u001b[0m                         Traceback (most recent call last)",
      "\u001b[1;32m<ipython-input-40-2a27da6dc750>\u001b[0m in \u001b[0;36m<module>\u001b[1;34m()\u001b[0m\n\u001b[0;32m      3\u001b[0m     \u001b[0mt0\u001b[0m \u001b[1;33m=\u001b[0m \u001b[0mtime\u001b[0m\u001b[1;33m.\u001b[0m\u001b[0mtime\u001b[0m\u001b[1;33m(\u001b[0m\u001b[1;33m)\u001b[0m\u001b[1;33m\u001b[0m\u001b[0m\n\u001b[0;32m      4\u001b[0m \u001b[1;33m\u001b[0m\u001b[0m\n\u001b[1;32m----> 5\u001b[1;33m     \u001b[0mtrain_loss\u001b[0m \u001b[1;33m=\u001b[0m \u001b[0mtrain\u001b[0m\u001b[1;33m(\u001b[0m\u001b[0mmodel_VAE\u001b[0m\u001b[1;33m,\u001b[0m\u001b[0moptimizer\u001b[0m\u001b[1;33m,\u001b[0m\u001b[0mtrainset\u001b[0m\u001b[1;33m,\u001b[0m\u001b[0mepoch\u001b[0m\u001b[1;33m)\u001b[0m\u001b[1;33m\u001b[0m\u001b[0m\n\u001b[0m\u001b[0;32m      6\u001b[0m     \u001b[0mvalid_loss\u001b[0m \u001b[1;33m=\u001b[0m \u001b[0mvalid\u001b[0m\u001b[1;33m(\u001b[0m\u001b[0mmodel_VAE\u001b[0m\u001b[1;33m,\u001b[0m\u001b[0moptimizer\u001b[0m\u001b[1;33m,\u001b[0m\u001b[0mvalidset\u001b[0m\u001b[1;33m,\u001b[0m\u001b[0mepoch\u001b[0m\u001b[1;33m)\u001b[0m\u001b[1;33m\u001b[0m\u001b[0m\n\u001b[0;32m      7\u001b[0m     \u001b[1;32mif\u001b[0m \u001b[0mvalid_loss\u001b[0m \u001b[1;33m<\u001b[0m \u001b[0mbest_val_so_far\u001b[0m\u001b[1;33m:\u001b[0m\u001b[1;33m\u001b[0m\u001b[0m\n",
      "\u001b[1;32m<ipython-input-27-4077515b8056>\u001b[0m in \u001b[0;36mtrain\u001b[1;34m(model, optimizer, loader, epoch)\u001b[0m\n\u001b[0;32m     23\u001b[0m         \u001b[0mkl_div\u001b[0m \u001b[1;33m=\u001b[0m \u001b[0mkl_div\u001b[0m\u001b[1;33m.\u001b[0m\u001b[0mmean\u001b[0m\u001b[1;33m(\u001b[0m\u001b[1;33m)\u001b[0m\u001b[1;33m\u001b[0m\u001b[0m\n\u001b[0;32m     24\u001b[0m         \u001b[0mtrain_loss\u001b[0m \u001b[1;33m+=\u001b[0m \u001b[0mloss\u001b[0m\u001b[1;33m.\u001b[0m\u001b[0mitem\u001b[0m\u001b[1;33m(\u001b[0m\u001b[1;33m)\u001b[0m\u001b[1;33m\u001b[0m\u001b[0m\n\u001b[1;32m---> 25\u001b[1;33m         \u001b[0mloss\u001b[0m\u001b[1;33m.\u001b[0m\u001b[0mbackward\u001b[0m\u001b[1;33m(\u001b[0m\u001b[1;33m)\u001b[0m\u001b[1;33m\u001b[0m\u001b[0m\n\u001b[0m\u001b[0;32m     26\u001b[0m         \u001b[0moptimizer\u001b[0m\u001b[1;33m.\u001b[0m\u001b[0mstep\u001b[0m\u001b[1;33m(\u001b[0m\u001b[1;33m)\u001b[0m\u001b[1;33m\u001b[0m\u001b[0m\n\u001b[0;32m     27\u001b[0m         \u001b[1;32mif\u001b[0m \u001b[0mbatch_idx\u001b[0m \u001b[1;33m%\u001b[0m \u001b[1;36m100\u001b[0m \u001b[1;33m==\u001b[0m \u001b[1;36m0\u001b[0m\u001b[1;33m:\u001b[0m\u001b[1;33m\u001b[0m\u001b[0m\n",
      "\u001b[1;32mC:\\Program Files (x86)\\Microsoft Visual Studio\\Shared\\Anaconda3_64\\lib\\site-packages\\torch\\tensor.py\u001b[0m in \u001b[0;36mbackward\u001b[1;34m(self, gradient, retain_graph, create_graph)\u001b[0m\n\u001b[0;32m    100\u001b[0m                 \u001b[0mproducts\u001b[0m\u001b[1;33m.\u001b[0m \u001b[0mDefaults\u001b[0m \u001b[0mto\u001b[0m\u001b[0;31m \u001b[0m\u001b[0;31m`\u001b[0m\u001b[0;31m`\u001b[0m\u001b[1;32mFalse\u001b[0m\u001b[0;31m`\u001b[0m\u001b[0;31m`\u001b[0m\u001b[1;33m.\u001b[0m\u001b[1;33m\u001b[0m\u001b[0m\n\u001b[0;32m    101\u001b[0m         \"\"\"\n\u001b[1;32m--> 102\u001b[1;33m         \u001b[0mtorch\u001b[0m\u001b[1;33m.\u001b[0m\u001b[0mautograd\u001b[0m\u001b[1;33m.\u001b[0m\u001b[0mbackward\u001b[0m\u001b[1;33m(\u001b[0m\u001b[0mself\u001b[0m\u001b[1;33m,\u001b[0m \u001b[0mgradient\u001b[0m\u001b[1;33m,\u001b[0m \u001b[0mretain_graph\u001b[0m\u001b[1;33m,\u001b[0m \u001b[0mcreate_graph\u001b[0m\u001b[1;33m)\u001b[0m\u001b[1;33m\u001b[0m\u001b[0m\n\u001b[0m\u001b[0;32m    103\u001b[0m \u001b[1;33m\u001b[0m\u001b[0m\n\u001b[0;32m    104\u001b[0m     \u001b[1;32mdef\u001b[0m \u001b[0mregister_hook\u001b[0m\u001b[1;33m(\u001b[0m\u001b[0mself\u001b[0m\u001b[1;33m,\u001b[0m \u001b[0mhook\u001b[0m\u001b[1;33m)\u001b[0m\u001b[1;33m:\u001b[0m\u001b[1;33m\u001b[0m\u001b[0m\n",
      "\u001b[1;32mC:\\Program Files (x86)\\Microsoft Visual Studio\\Shared\\Anaconda3_64\\lib\\site-packages\\torch\\autograd\\__init__.py\u001b[0m in \u001b[0;36mbackward\u001b[1;34m(tensors, grad_tensors, retain_graph, create_graph, grad_variables)\u001b[0m\n\u001b[0;32m     88\u001b[0m     Variable._execution_engine.run_backward(\n\u001b[0;32m     89\u001b[0m         \u001b[0mtensors\u001b[0m\u001b[1;33m,\u001b[0m \u001b[0mgrad_tensors\u001b[0m\u001b[1;33m,\u001b[0m \u001b[0mretain_graph\u001b[0m\u001b[1;33m,\u001b[0m \u001b[0mcreate_graph\u001b[0m\u001b[1;33m,\u001b[0m\u001b[1;33m\u001b[0m\u001b[0m\n\u001b[1;32m---> 90\u001b[1;33m         allow_unreachable=True)  # allow_unreachable flag\n\u001b[0m\u001b[0;32m     91\u001b[0m \u001b[1;33m\u001b[0m\u001b[0m\n\u001b[0;32m     92\u001b[0m \u001b[1;33m\u001b[0m\u001b[0m\n",
      "\u001b[1;31mKeyboardInterrupt\u001b[0m: "
     ]
    }
   ],
   "source": [
    "n_epochs = 10\n",
    "for epoch in range(1, n_epochs + 1):\n",
    "    t0 = time.time()\n",
    "    \n",
    "    train_loss = train(model_VAE,optimizer,trainset,epoch)\n",
    "    valid_loss = valid(model_VAE,optimizer,validset,epoch)\n",
    "    if valid_loss < best_val_so_far:\n",
    "        best_val_so_far = valid_loss\n",
    "        print(\"Saving model parameters to best_params.pt\")\n",
    "        torch.save(model_VAE.state_dict(), os.path.join(save_dir, 'best_params.pt'))\n",
    "    \n",
    "     # LOC RESULTS\n",
    "    train_losses.append(train_loss)\n",
    "    valid_losses.append(valid_loss)\n",
    "    times.append(time.time() - t0)\n",
    "    log_str = 'epoch: ' + str(epoch) + '\\n' \\\n",
    "            + 'train loss: ' + str(train_loss) + '\\n' \\\n",
    "            + 'valid loss: ' + str(valid_loss)  + '\\n' \\\n",
    "            + 'best val: '   + str(best_val_so_far) + '\\n' \\\n",
    "            + 'time (s) spent in epoch: ' + str(times[-1])\n",
    "    print(log_str)\n",
    "    with open (os.path.join(save_dir, 'log.txt'), 'a') as f_:\n",
    "        f_.write(log_str+ '\\n')\n",
    "\n",
    "# SAVE LEARNING CURVES\n",
    "lc_path = os.path.join(save_dir, 'learning_curves.npy')\n",
    "print('\\nDONE\\n\\nSaving learning curves to '+lc_path)\n",
    "np.save(lc_path, {'train_losses':train_losses,\n",
    "                  'valid_losses':valid_losses,\n",
    "                  'times':times})"
   ]
  },
  {
   "cell_type": "code",
   "execution_count": 41,
   "metadata": {},
   "outputs": [
    {
     "data": {
      "image/png": "[encoded data removed]",
      "text/plain": [
       "<Figure size 432x288 with 1 Axes>"
      ]
     },
     "metadata": {
      "needs_background": "light"
     },
     "output_type": "display_data"
    }
   ],
   "source": [
    "model_VAE.eval()\n",
    "with torch.no_grad() :\n",
    "    z_dim = 100\n",
    "    bs    = 8\n",
    "    mu    = torch.zeros(bs,z_dim)\n",
    "    std   = torch.ones(bs,z_dim)\n",
    "    z     = model_VAE.reparameterize(mu,std).to(device)\n",
    "    gen   = model_VAE.decode(z)\n",
    "    gen_  = gen.cpu()\n",
    "    # gen_  = gen_ - gen_.min()\n",
    "    # gen_  = gen_ / gen_.max()\n",
    "    # print(gen_.shape)\n",
    "    imshow(torchvision.utils.make_grid(gen_))"
   ]
  },
  {
   "cell_type": "code",
   "execution_count": 431,
   "metadata": {},
   "outputs": [],
   "source": [
    "dataiter = iter(trainset)\n",
    "images, labels = dataiter.next()\n",
    "images = images.to(device)\n",
    "xh,vh,mu,std = model_VAE(images)"
   ]
  },
  {
   "cell_type": "code",
   "execution_count": 432,
   "metadata": {},
   "outputs": [
    {
     "name": "stdout",
     "output_type": "stream",
     "text": [
      "tensor(1.0151, device='cuda:0', grad_fn=<MaxBackward1>)\n",
      "tensor(-0.8913, device='cuda:0', grad_fn=<MinBackward1>)\n",
      "tensor(0.5000, device='cuda:0', grad_fn=<MaxBackward1>)\n",
      "tensor(0.5000, device='cuda:0', grad_fn=<MinBackward1>)\n"
     ]
    }
   ],
   "source": [
    "print(xh.max())\n",
    "print(xh.min())\n",
    "print(vh.max())\n",
    "print(vh.min())"
   ]
  },
  {
   "cell_type": "markdown",
   "metadata": {},
   "source": [
    "# Qualitative evaluation"
   ]
  },
  {
   "cell_type": "code",
   "execution_count": 42,
   "metadata": {},
   "outputs": [
    {
     "name": "stdout",
     "output_type": "stream",
     "text": [
      "torch.Size([11, 100])\n"
     ]
    },
    {
     "data": {
      "image/png": "[encoded data removed]",
      "text/plain": [
       "<Figure size 432x288 with 1 Axes>"
      ]
     },
     "metadata": {
      "needs_background": "light"
     },
     "output_type": "display_data"
    },
    {
     "data": {
      "image/png": "[encoded data removed]",
      "text/plain": [
       "<Figure size 432x288 with 1 Axes>"
      ]
     },
     "metadata": {
      "needs_background": "light"
     },
     "output_type": "display_data"
    },
    {
     "data": {
      "image/png": "[encoded data removed]",
      "text/plain": [
       "<Figure size 432x288 with 1 Axes>"
      ]
     },
     "metadata": {
      "needs_background": "light"
     },
     "output_type": "display_data"
    }
   ],
   "source": [
    "def lazy_interpolation(model,z):\n",
    "    alpha = torch.linspace(0, 1, steps=11)\n",
    "    alpha = torch.transpose(alpha.repeat(1,3,32,32,1),0,-1).squeeze(-1)\n",
    "    alpha = alpha.to(device)\n",
    "    g = model.decoder(z)\n",
    "    g = g[0].unsqueeze(0).repeat(11,1,1,1)*(1-alpha) + g[1].unsqueeze(0).repeat(11,1,1,1)*alpha\n",
    "    return g\n",
    "    \n",
    "def latent_interpolation(model,z):\n",
    "    alpha = torch.linspace(0, 1, steps=11)\n",
    "    alpha = torch.transpose(alpha.repeat(100,1),0,-1)\n",
    "    alpha = alpha.to(device)\n",
    "    z = z[0].unsqueeze(0).repeat(11,1)*(1-alpha) + z[1].unsqueeze(0).repeat(11,1)*alpha\n",
    "    print( z.shape )\n",
    "    g = model.decoder(z)\n",
    "    return g\n",
    "\n",
    "_ = model_VAE.to(device)\n",
    "model_VAE.eval()\n",
    "with torch.no_grad() :\n",
    "    z_dim = 100\n",
    "    bs    = 2\n",
    "    mu    = torch.zeros(bs,z_dim)\n",
    "    std   = 2*torch.ones(bs,z_dim)\n",
    "    z     = model_VAE.reparameterize(mu,std).to(device)\n",
    "    lz_interpol = lazy_interpolation(model_VAE,z).cpu()\n",
    "    lt_interpol = latent_interpolation(model_VAE,z).cpu()\n",
    "\n",
    "    imshow(torchvision.utils.make_grid(lz_interpol))\n",
    "    imshow(torchvision.utils.make_grid(lt_interpol))\n",
    "    # diff between the 2 interpol\n",
    "    imshow(torchvision.utils.make_grid(lt_interpol-lz_interpol))"
   ]
  },
  {
   "cell_type": "code",
   "execution_count": null,
   "metadata": {},
   "outputs": [],
   "source": []
  },
  {
   "cell_type": "code",
   "execution_count": null,
   "metadata": {},
   "outputs": [],
   "source": []
  }
 ],
 "metadata": {
  "kernelspec": {
   "display_name": "Python 3",
   "language": "python",
   "name": "python3"
  },
  "language_info": {
   "codemirror_mode": {
    "name": "ipython",
    "version": 3
   },
   "file_extension": ".py",
   "mimetype": "text/x-python",
   "name": "python",
   "nbconvert_exporter": "python",
   "pygments_lexer": "ipython3",
   "version": "3.6.5"
  }
 },
 "nbformat": 4,
 "nbformat_minor": 2
}
